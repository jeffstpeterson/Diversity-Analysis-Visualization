{
 "cells": [
  {
   "cell_type": "code",
   "execution_count": 2,
   "id": "2039391a-9b20-4fca-81fb-9d7fb2ac6feb",
   "metadata": {},
   "outputs": [],
   "source": [
    "import pandas as pd\n",
    "# settings to display all columns\n",
    "pd.set_option(\"display.max_columns\", None)\n",
    "import numpy as np\n",
    "import matplotlib.pyplot as plt\n",
    "from sklearn import datasets\n",
    "from scipy.stats import linregress"
   ]
  },
  {
   "cell_type": "code",
   "execution_count": 3,
   "id": "0f74387d-c1e6-48e4-bbbb-146ca98456cd",
   "metadata": {},
   "outputs": [],
   "source": [
    "data1 = \"Data/bot5Diversity.csv\"\n",
    "data2 = \"Data/Top5Diversity.csv\"\n",
    "\n",
    "bot = pd.read_csv(data1)\n",
    "top = pd.read_csv(data2)"
   ]
  },
  {
   "cell_type": "code",
   "execution_count": 4,
   "id": "5602e432-81f1-4708-bfb6-d9664df9f8e7",
   "metadata": {},
   "outputs": [
    {
     "data": {
      "text/html": [
       "<div>\n",
       "<style scoped>\n",
       "    .dataframe tbody tr th:only-of-type {\n",
       "        vertical-align: middle;\n",
       "    }\n",
       "\n",
       "    .dataframe tbody tr th {\n",
       "        vertical-align: top;\n",
       "    }\n",
       "\n",
       "    .dataframe thead th {\n",
       "        text-align: right;\n",
       "    }\n",
       "</style>\n",
       "<table border=\"1\" class=\"dataframe\">\n",
       "  <thead>\n",
       "    <tr style=\"text-align: right;\">\n",
       "      <th></th>\n",
       "      <th>Time</th>\n",
       "      <th>Symbol</th>\n",
       "      <th>Open</th>\n",
       "      <th>High</th>\n",
       "      <th>Low</th>\n",
       "      <th>Last</th>\n",
       "      <th>Change</th>\n",
       "      <th>%Chg</th>\n",
       "      <th>Volume</th>\n",
       "    </tr>\n",
       "  </thead>\n",
       "  <tbody>\n",
       "    <tr>\n",
       "      <th>0</th>\n",
       "      <td>11/8/21</td>\n",
       "      <td>JCI</td>\n",
       "      <td>75.57</td>\n",
       "      <td>75.89</td>\n",
       "      <td>74.215</td>\n",
       "      <td>74.47</td>\n",
       "      <td>-0.16</td>\n",
       "      <td>-0.21%</td>\n",
       "      <td>3054996</td>\n",
       "    </tr>\n",
       "    <tr>\n",
       "      <th>1</th>\n",
       "      <td>11/1/21</td>\n",
       "      <td>JCI</td>\n",
       "      <td>73.30</td>\n",
       "      <td>74.81</td>\n",
       "      <td>71.910</td>\n",
       "      <td>74.63</td>\n",
       "      <td>1.26</td>\n",
       "      <td>1.72%</td>\n",
       "      <td>3566020</td>\n",
       "    </tr>\n",
       "    <tr>\n",
       "      <th>2</th>\n",
       "      <td>10/25/21</td>\n",
       "      <td>JCI</td>\n",
       "      <td>73.88</td>\n",
       "      <td>74.45</td>\n",
       "      <td>71.700</td>\n",
       "      <td>73.37</td>\n",
       "      <td>-0.50</td>\n",
       "      <td>-0.68%</td>\n",
       "      <td>3249260</td>\n",
       "    </tr>\n",
       "    <tr>\n",
       "      <th>3</th>\n",
       "      <td>10/18/21</td>\n",
       "      <td>JCI</td>\n",
       "      <td>70.71</td>\n",
       "      <td>74.67</td>\n",
       "      <td>70.620</td>\n",
       "      <td>73.87</td>\n",
       "      <td>2.57</td>\n",
       "      <td>3.60%</td>\n",
       "      <td>2676220</td>\n",
       "    </tr>\n",
       "    <tr>\n",
       "      <th>4</th>\n",
       "      <td>10/11/21</td>\n",
       "      <td>JCI</td>\n",
       "      <td>68.74</td>\n",
       "      <td>72.36</td>\n",
       "      <td>67.960</td>\n",
       "      <td>71.30</td>\n",
       "      <td>2.29</td>\n",
       "      <td>3.32%</td>\n",
       "      <td>3196280</td>\n",
       "    </tr>\n",
       "  </tbody>\n",
       "</table>\n",
       "</div>"
      ],
      "text/plain": [
       "       Time Symbol   Open   High     Low   Last  Change    %Chg   Volume\n",
       "0   11/8/21    JCI  75.57  75.89  74.215  74.47   -0.16  -0.21%  3054996\n",
       "1   11/1/21    JCI  73.30  74.81  71.910  74.63    1.26   1.72%  3566020\n",
       "2  10/25/21    JCI  73.88  74.45  71.700  73.37   -0.50  -0.68%  3249260\n",
       "3  10/18/21    JCI  70.71  74.67  70.620  73.87    2.57   3.60%  2676220\n",
       "4  10/11/21    JCI  68.74  72.36  67.960  71.30    2.29   3.32%  3196280"
      ]
     },
     "execution_count": 4,
     "metadata": {},
     "output_type": "execute_result"
    }
   ],
   "source": [
    "bot.head()"
   ]
  },
  {
   "cell_type": "code",
   "execution_count": 5,
   "id": "ee8701ef-c0e1-4a35-80d9-8155d02707a2",
   "metadata": {},
   "outputs": [],
   "source": [
    "merge = [bot,top]\n",
    "final = pd.concat(merge)"
   ]
  },
  {
   "cell_type": "code",
   "execution_count": 6,
   "id": "0df723bf-fde8-4f52-9bce-9fc7af142616",
   "metadata": {},
   "outputs": [
    {
     "name": "stdout",
     "output_type": "stream",
     "text": [
      "<class 'pandas.core.frame.DataFrame'>\n",
      "Int64Index: 2540 entries, 0 to 1269\n",
      "Data columns (total 9 columns):\n",
      " #   Column  Non-Null Count  Dtype  \n",
      "---  ------  --------------  -----  \n",
      " 0   Time    2540 non-null   object \n",
      " 1   Symbol  2540 non-null   object \n",
      " 2   Open    2540 non-null   float64\n",
      " 3   High    2540 non-null   float64\n",
      " 4   Low     2540 non-null   float64\n",
      " 5   Last    2540 non-null   float64\n",
      " 6   Change  2540 non-null   float64\n",
      " 7   %Chg    2540 non-null   object \n",
      " 8   Volume  2540 non-null   int64  \n",
      "dtypes: float64(5), int64(1), object(3)\n",
      "memory usage: 198.4+ KB\n"
     ]
    }
   ],
   "source": [
    "final.info()"
   ]
  },
  {
   "cell_type": "code",
   "execution_count": 7,
   "id": "83fe9123-7ce4-4559-baba-667779b5be0c",
   "metadata": {},
   "outputs": [
    {
     "data": {
      "text/html": [
       "<div>\n",
       "<style scoped>\n",
       "    .dataframe tbody tr th:only-of-type {\n",
       "        vertical-align: middle;\n",
       "    }\n",
       "\n",
       "    .dataframe tbody tr th {\n",
       "        vertical-align: top;\n",
       "    }\n",
       "\n",
       "    .dataframe thead th {\n",
       "        text-align: right;\n",
       "    }\n",
       "</style>\n",
       "<table border=\"1\" class=\"dataframe\">\n",
       "  <thead>\n",
       "    <tr style=\"text-align: right;\">\n",
       "      <th></th>\n",
       "      <th>Open</th>\n",
       "      <th>High</th>\n",
       "      <th>Low</th>\n",
       "      <th>Last</th>\n",
       "      <th>Change</th>\n",
       "      <th>Volume</th>\n",
       "    </tr>\n",
       "  </thead>\n",
       "  <tbody>\n",
       "    <tr>\n",
       "      <th>count</th>\n",
       "      <td>2540.000000</td>\n",
       "      <td>2540.000000</td>\n",
       "      <td>2540.000000</td>\n",
       "      <td>2540.000000</td>\n",
       "      <td>2540.000000</td>\n",
       "      <td>2.540000e+03</td>\n",
       "    </tr>\n",
       "    <tr>\n",
       "      <th>mean</th>\n",
       "      <td>77.537865</td>\n",
       "      <td>80.008328</td>\n",
       "      <td>75.178273</td>\n",
       "      <td>77.783337</td>\n",
       "      <td>0.276608</td>\n",
       "      <td>2.443154e+06</td>\n",
       "    </tr>\n",
       "    <tr>\n",
       "      <th>std</th>\n",
       "      <td>51.603130</td>\n",
       "      <td>53.261397</td>\n",
       "      <td>49.928126</td>\n",
       "      <td>51.752680</td>\n",
       "      <td>4.487072</td>\n",
       "      <td>2.736036e+06</td>\n",
       "    </tr>\n",
       "    <tr>\n",
       "      <th>min</th>\n",
       "      <td>17.250000</td>\n",
       "      <td>18.350000</td>\n",
       "      <td>13.540000</td>\n",
       "      <td>16.680000</td>\n",
       "      <td>-44.670000</td>\n",
       "      <td>9.400000e+04</td>\n",
       "    </tr>\n",
       "    <tr>\n",
       "      <th>25%</th>\n",
       "      <td>42.037500</td>\n",
       "      <td>43.032500</td>\n",
       "      <td>41.028750</td>\n",
       "      <td>42.135000</td>\n",
       "      <td>-1.100000</td>\n",
       "      <td>5.615305e+05</td>\n",
       "    </tr>\n",
       "    <tr>\n",
       "      <th>50%</th>\n",
       "      <td>54.685000</td>\n",
       "      <td>56.275000</td>\n",
       "      <td>53.190000</td>\n",
       "      <td>54.777750</td>\n",
       "      <td>0.291950</td>\n",
       "      <td>1.245250e+06</td>\n",
       "    </tr>\n",
       "    <tr>\n",
       "      <th>75%</th>\n",
       "      <td>100.337500</td>\n",
       "      <td>104.722500</td>\n",
       "      <td>96.030425</td>\n",
       "      <td>101.115000</td>\n",
       "      <td>1.610000</td>\n",
       "      <td>3.554415e+06</td>\n",
       "    </tr>\n",
       "    <tr>\n",
       "      <th>max</th>\n",
       "      <td>309.660000</td>\n",
       "      <td>310.160000</td>\n",
       "      <td>294.140000</td>\n",
       "      <td>308.530000</td>\n",
       "      <td>35.130000</td>\n",
       "      <td>2.231114e+07</td>\n",
       "    </tr>\n",
       "  </tbody>\n",
       "</table>\n",
       "</div>"
      ],
      "text/plain": [
       "              Open         High          Low         Last       Change  \\\n",
       "count  2540.000000  2540.000000  2540.000000  2540.000000  2540.000000   \n",
       "mean     77.537865    80.008328    75.178273    77.783337     0.276608   \n",
       "std      51.603130    53.261397    49.928126    51.752680     4.487072   \n",
       "min      17.250000    18.350000    13.540000    16.680000   -44.670000   \n",
       "25%      42.037500    43.032500    41.028750    42.135000    -1.100000   \n",
       "50%      54.685000    56.275000    53.190000    54.777750     0.291950   \n",
       "75%     100.337500   104.722500    96.030425   101.115000     1.610000   \n",
       "max     309.660000   310.160000   294.140000   308.530000    35.130000   \n",
       "\n",
       "             Volume  \n",
       "count  2.540000e+03  \n",
       "mean   2.443154e+06  \n",
       "std    2.736036e+06  \n",
       "min    9.400000e+04  \n",
       "25%    5.615305e+05  \n",
       "50%    1.245250e+06  \n",
       "75%    3.554415e+06  \n",
       "max    2.231114e+07  "
      ]
     },
     "execution_count": 7,
     "metadata": {},
     "output_type": "execute_result"
    }
   ],
   "source": [
    "final.describe()"
   ]
  },
  {
   "cell_type": "code",
   "execution_count": 8,
   "id": "fa21a5d7-346e-4c38-b207-1e3fce92f770",
   "metadata": {},
   "outputs": [
    {
     "data": {
      "text/plain": [
       "<AxesSubplot:>"
      ]
     },
     "execution_count": 8,
     "metadata": {},
     "output_type": "execute_result"
    },
    {
     "data": {
      "image/png": "[encoded data removed]",
      "text/plain": [
       "<Figure size 432x288 with 1 Axes>"
      ]
     },
     "metadata": {
      "needs_background": "light"
     },
     "output_type": "display_data"
    }
   ],
   "source": [
    "final.plot()"
   ]
  },
  {
   "cell_type": "code",
   "execution_count": 9,
   "id": "8213c9ea-1a51-46b7-8a73-a345f4db2d08",
   "metadata": {},
   "outputs": [],
   "source": [
    "final.to_csv('Top5_Bottom5.csv', index=False)"
   ]
  },
  {
   "cell_type": "code",
   "execution_count": null,
   "id": "193016c0-f682-4471-b3cc-df937f187c60",
   "metadata": {},
   "outputs": [],
   "source": []
  }
 ],
 "metadata": {
  "kernelspec": {
   "display_name": "Python 3",
   "language": "python",
   "name": "python3"
  },
  "language_info": {
   "codemirror_mode": {
    "name": "ipython",
    "version": 3
   },
   "file_extension": ".py",
   "mimetype": "text/x-python",
   "name": "python",
   "nbconvert_exporter": "python",
   "pygments_lexer": "ipython3",
   "version": "3.8.8"
  }
 },
 "nbformat": 4,
 "nbformat_minor": 5
}
